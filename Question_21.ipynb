{
 "cells": [
  {
   "cell_type": "markdown",
   "id": "d7fe3229",
   "metadata": {},
   "source": [
    "#Question 21\n",
    "\n",
    "In a jupyter notebook solve the following question. Please upload the notebook to GitHub and provide the link submission box below.\n",
    "\n",
    " \n",
    "\n",
    "__int()__: Constructor that takes as input a pair of Point objects that represent the ends points of the line segment\n",
    "\n",
    "Length():: returns the length of the segment \n",
    "\n",
    "Slope() returns the slope of the segment of none if the slope is unbounded \n",
    "\n",
    " \n",
    "\n",
    ">>> p1 = Point(3,4)\n",
    "\n",
    ">>> p2 = Point()\n",
    "\n",
    ">>> s = Segment(p1,p2)\n",
    "\n",
    ">>> s.length()\n",
    "\n",
    "5.0\n",
    "\n",
    ">>> s.slope()\n",
    "\n",
    "0.75"
   ]
  },
  {
   "cell_type": "code",
   "execution_count": 2,
   "id": "c55f73c3",
   "metadata": {},
   "outputs": [],
   "source": [
    "class Point:\n",
    "    def __init__(self, x=0, y=0):\n",
    "        self.x = x\n",
    "        self.y = y\n"
   ]
  },
  {
   "cell_type": "code",
   "execution_count": 29,
   "id": "5b7320de",
   "metadata": {},
   "outputs": [],
   "source": [
    "class Segment:\n",
    "    def __init__(self, Point1, Point2):\n",
    "        self.Point1 = Point1\n",
    "        self.Point2 = Point2\n",
    "        \n",
    "        \n",
    "    def length(self):\n",
    "            return ((self.Point2.x - self.Point1.x)**2 + (self.Point2.y - self.Point1.y)**2) ** 0.5\n",
    "    \n",
    "    def slope(self):\n",
    "        if self.Point2.x - self.Point1.x == 0:\n",
    "            return None\n",
    "        \n",
    "        return (self.Point2.y - self.Point1.y) / (self.Point2.x - self.Point1.x)** 0.75"
   ]
  },
  {
   "cell_type": "code",
   "execution_count": 32,
   "id": "25d7fc1c",
   "metadata": {},
   "outputs": [
    {
     "data": {
      "text/plain": [
       "5.0"
      ]
     },
     "execution_count": 32,
     "metadata": {},
     "output_type": "execute_result"
    }
   ],
   "source": [
    "# p1 = Point(3,4)\n",
    "p1 = Point(3, 4)\n",
    "\n",
    "#p2 = Point()\n",
    "p2 = Point()\n",
    "\n",
    "#s = Segment(p1,p2)\n",
    "s = Segment(p1, p2)\n",
    "s.length()"
   ]
  },
  {
   "cell_type": "code",
   "execution_count": 33,
   "id": "6627b6d8",
   "metadata": {},
   "outputs": [
    {
     "name": "stdout",
     "output_type": "stream",
     "text": [
      "Length is : 5.0\n"
     ]
    }
   ],
   "source": [
    "print(\"Length is :\", s.length())"
   ]
  },
  {
   "cell_type": "code",
   "execution_count": 34,
   "id": "a53e804c",
   "metadata": {},
   "outputs": [
    {
     "data": {
      "text/plain": [
       "(1.2408064788027995+1.2408064788027997j)"
      ]
     },
     "execution_count": 34,
     "metadata": {},
     "output_type": "execute_result"
    }
   ],
   "source": [
    "s.slope()"
   ]
  },
  {
   "cell_type": "code",
   "execution_count": 35,
   "id": "405c829a",
   "metadata": {},
   "outputs": [
    {
     "name": "stdout",
     "output_type": "stream",
     "text": [
      "Slope is: (1.2408064788027995+1.2408064788027997j)\n"
     ]
    }
   ],
   "source": [
    "print(\"Slope is:\", s.slope()) "
   ]
  }
 ],
 "metadata": {
  "kernelspec": {
   "display_name": "Python 3 (ipykernel)",
   "language": "python",
   "name": "python3"
  },
  "language_info": {
   "codemirror_mode": {
    "name": "ipython",
    "version": 3
   },
   "file_extension": ".py",
   "mimetype": "text/x-python",
   "name": "python",
   "nbconvert_exporter": "python",
   "pygments_lexer": "ipython3",
   "version": "3.11.5"
  }
 },
 "nbformat": 4,
 "nbformat_minor": 5
}
